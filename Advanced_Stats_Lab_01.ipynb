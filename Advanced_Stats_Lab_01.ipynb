{
  "nbformat": 4,
  "nbformat_minor": 0,
  "metadata": {
    "colab": {
      "provenance": [],
      "authorship_tag": "ABX9TyMV0o9fXnceKGwOM6WaS/Q0",
      "include_colab_link": true
    },
    "kernelspec": {
      "name": "python3",
      "display_name": "Python 3"
    },
    "language_info": {
      "name": "python"
    }
  },
  "cells": [
    {
      "cell_type": "markdown",
      "metadata": {
        "id": "view-in-github",
        "colab_type": "text"
      },
      "source": [
        "<a href=\"https://colab.research.google.com/github/MuhammadAfaan/Advanced-Stats_Labs/blob/main/Advanced_Stats_Lab_01.ipynb\" target=\"_parent\"><img src=\"https://colab.research.google.com/assets/colab-badge.svg\" alt=\"Open In Colab\"/></a>"
      ]
    },
    {
      "cell_type": "code",
      "execution_count": null,
      "metadata": {
        "id": "lvibIYgx47Y9"
      },
      "outputs": [],
      "source": [
        "# task#1 two sets\n",
        "set1 = {'Affan', 'Roman', 'Ali Sher', 'Mudassir'}\n",
        "set2 = {'Bilal', 'Dua', 'Affan', 'Fatima'}"
      ]
    },
    {
      "cell_type": "code",
      "source": [
        "# task#2\n",
        "print(\" Set A\",set1)\n",
        "print(\" Set B\",set2)\n",
        "\n",
        "print (\"Union: \", set1.union(set2))\n",
        "print (\"Intersection: \", set1.intersection(set2))\n",
        "print (\"Difference SET 1- SET2\", set1.difference(set2))\n",
        "print (\"Symmetric Diff\", set1.symmetric_difference(set2))"
      ],
      "metadata": {
        "colab": {
          "base_uri": "https://localhost:8080/"
        },
        "id": "UkxlEWNY4-P7",
        "outputId": "ba437ee3-c58b-4032-f09a-3708470ca18a"
      },
      "execution_count": null,
      "outputs": [
        {
          "output_type": "stream",
          "name": "stdout",
          "text": [
            " Set A {'Affan', 'Roman', 'Ali Sher', 'Mudassir'}\n",
            " Set B {'Bilal', 'Dua', 'Fatima', 'Affan'}\n",
            "Union:  {'Ali Sher', 'Bilal', 'Dua', 'Roman', 'Affan', 'Fatima', 'Mudassir'}\n",
            "Intersection:  {'Affan'}\n",
            "Difference SET 1- SET2 {'Roman', 'Ali Sher', 'Mudassir'}\n",
            "Symmetric Diff {'Ali Sher', 'Bilal', 'Dua', 'Roman', 'Fatima', 'Mudassir'}\n"
          ]
        }
      ]
    },
    {
      "cell_type": "code",
      "source": [
        "# task#3 testing member ship\n",
        "name1 = 'Affan'\n",
        "name2 = 'Ali Sher'\n",
        "\n",
        "print(f\"Is '{name1}' in Set 1? {name1 in set1}\")\n",
        "print(f\"Is '{name2}' in Set 2? {name2 in set2}\")"
      ],
      "metadata": {
        "colab": {
          "base_uri": "https://localhost:8080/"
        },
        "id": "CHcmxBWD4-W0",
        "outputId": "f1c4261f-dd18-4d22-8756-341fb9326bac"
      },
      "execution_count": null,
      "outputs": [
        {
          "output_type": "stream",
          "name": "stdout",
          "text": [
            "Is 'Affan' in Set 1? True\n",
            "Is 'Ali Sher' in Set 2? False\n"
          ]
        }
      ]
    },
    {
      "cell_type": "code",
      "source": [
        "#task4 adding and removing\n",
        "set1.add(\"Sheikh\")\n",
        "print(\"Set1 after adding\", set1)\n",
        "set1.remove(\"Affan\")\n",
        "print(\"Set1 after removing\", set1)"
      ],
      "metadata": {
        "colab": {
          "base_uri": "https://localhost:8080/"
        },
        "id": "ocxMlD8h4-gM",
        "outputId": "cb768cd1-e5c6-4777-a1ff-1da74ff67451"
      },
      "execution_count": null,
      "outputs": [
        {
          "output_type": "stream",
          "name": "stdout",
          "text": [
            "Set1 after adding {'Ali Sher', 'Roman', 'Affan', 'Mudassir', 'Sheikh'}\n",
            "Set1 after removing {'Ali Sher', 'Roman', 'Mudassir', 'Sheikh'}\n"
          ]
        }
      ]
    }
  ]
}